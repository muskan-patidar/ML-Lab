{
  "nbformat": 4,
  "nbformat_minor": 0,
  "metadata": {
    "colab": {
      "name": "Copy of Classification algorithms on placement dataset .ipynb",
      "provenance": [],
      "include_colab_link": true
    },
    "kernelspec": {
      "name": "python3",
      "display_name": "Python 3"
    },
    "language_info": {
      "name": "python"
    }
  },
  "cells": [
    {
      "cell_type": "markdown",
      "metadata": {
        "id": "view-in-github",
        "colab_type": "text"
      },
      "source": [
        "<a href=\"https://colab.research.google.com/github/muskan-patidar/ML-Lab/blob/main/Classification_algorithms_on_placement_dataset_.ipynb\" target=\"_parent\"><img src=\"https://colab.research.google.com/assets/colab-badge.svg\" alt=\"Open In Colab\"/></a>"
      ]
    },
    {
      "cell_type": "code",
      "metadata": {
        "id": "pP9Hcx1EKAV8"
      },
      "source": [
        "from sklearn import datasets, linear_model, metrics\n",
        "import csv \n",
        "import numpy as np \n",
        "import matplotlib.pyplot as plt \n",
        "import pandas as pd \n",
        "dataset = pd.read_csv('/content/drive/MyDrive/Placement_Data_Full_Class (1).csv')  \n",
        "dataset=np.array(dataset) "
      ],
      "execution_count": null,
      "outputs": []
    },
    {
      "cell_type": "code",
      "metadata": {
        "colab": {
          "base_uri": "https://localhost:8080/"
        },
        "id": "lKbGfjp4LIDv",
        "outputId": "3d4f5ba5-a209-43c0-9acb-8aaf00e0b1f6"
      },
      "source": [
        "from google.colab import drive\n",
        "drive.mount('/content/drive')"
      ],
      "execution_count": null,
      "outputs": [
        {
          "output_type": "stream",
          "text": [
            "Drive already mounted at /content/drive; to attempt to forcibly remount, call drive.mount(\"/content/drive\", force_remount=True).\n"
          ],
          "name": "stdout"
        }
      ]
    },
    {
      "cell_type": "code",
      "metadata": {
        "id": "BS1u6G6fnN8N"
      },
      "source": [
        "from sklearn.model_selection import train_test_split\n",
        "X_train,X_test,Y_train,Y_test=train_test_split(features,label,test_size=0.5)"
      ],
      "execution_count": null,
      "outputs": []
    },
    {
      "cell_type": "code",
      "metadata": {
        "id": "fsF-jtSaKdSj",
        "colab": {
          "base_uri": "https://localhost:8080/"
        },
        "outputId": "0e2363d3-6d1c-48fa-f93d-2c68ee0ac148"
      },
      "source": [
        "\n",
        "\n",
        "#LOGISTIC REGRESSION\n",
        "from sklearn.linear_model import LogisticRegression\n",
        "model=LogisticRegression()\n",
        "\n",
        "#K-NEAREST NEIGHBORS(KNN)\n",
        "#from sklearn.neighbors import KNeighborsClassifier\n",
        "#model=KNeighborsClassifier()\n",
        "\n",
        "#NAIVE BAYES\n",
        "#from sklearn.naive_bayes import GaussianNB\n",
        "#model=GaussianNB()\n",
        "\n",
        "model.fit(X_train,Y_train)\n",
        "y_ans=model.predict(X_test)\n",
        "\n",
        "model.score(X_test,Y_test)"
      ],
      "execution_count": null,
      "outputs": [
        {
          "output_type": "execute_result",
          "data": {
            "text/plain": [
              "0.9733333333333334"
            ]
          },
          "metadata": {
            "tags": []
          },
          "execution_count": 59
        }
      ]
    },
    {
      "cell_type": "code",
      "metadata": {
        "colab": {
          "base_uri": "https://localhost:8080/"
        },
        "id": "IoGuSoX4LrkP",
        "outputId": "ac46e6d1-bab2-45a2-8b84-8ab9ab16f0e9"
      },
      "source": [
        "\n",
        "\n",
        "#LOGISTIC REGRESSION\n",
        "#from sklearn.linear_model import LogisticRegression\n",
        "#model=LogisticRegression()\n",
        "\n",
        "#K-NEAREST NEIGHBORS(KNN)\n",
        "from sklearn.neighbors import KNeighborsClassifier\n",
        "model=KNeighborsClassifier()\n",
        "\n",
        "#NAIVE BAYES\n",
        "#from sklearn.naive_bayes import GaussianNB\n",
        "#model=GaussianNB()\n",
        "\n",
        "model.fit(X_train,Y_train)\n",
        "y_ans=model.predict(X_test)\n",
        "\n",
        "model.score(X_test,Y_test)"
      ],
      "execution_count": null,
      "outputs": [
        {
          "output_type": "execute_result",
          "data": {
            "text/plain": [
              "0.9466666666666667"
            ]
          },
          "metadata": {
            "tags": []
          },
          "execution_count": 60
        }
      ]
    },
    {
      "cell_type": "code",
      "metadata": {
        "colab": {
          "base_uri": "https://localhost:8080/"
        },
        "id": "NKgzwCtBLzlX",
        "outputId": "df7d497b-778b-4173-a1fb-35988caf6769"
      },
      "source": [
        "\n",
        "\n",
        "#LOGISTIC REGRESSION\n",
        "#from sklearn.linear_model import LogisticRegression\n",
        "#model=LogisticRegression()\n",
        "\n",
        "#K-NEAREST NEIGHBORS(KNN)\n",
        "#from sklearn.neighbors import KNeighborsClassifier\n",
        "#model=KNeighborsClassifier()\n",
        "\n",
        "#NAIVE BAYES\n",
        "from sklearn.naive_bayes import GaussianNB\n",
        "model=GaussianNB()\n",
        "\n",
        "model.fit(X_train,Y_train)\n",
        "y_ans=model.predict(X_test)\n",
        "\n",
        "model.score(X_test,Y_test)"
      ],
      "execution_count": null,
      "outputs": [
        {
          "output_type": "execute_result",
          "data": {
            "text/plain": [
              "0.96"
            ]
          },
          "metadata": {
            "tags": []
          },
          "execution_count": 61
        }
      ]
    }
  ]
}